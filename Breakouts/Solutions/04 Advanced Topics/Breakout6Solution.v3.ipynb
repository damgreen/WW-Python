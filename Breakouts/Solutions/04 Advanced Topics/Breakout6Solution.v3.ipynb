{
 "metadata": {
  "name": "Breakout6Solution.v3"
 },
 "nbformat": 3,
 "nbformat_minor": 0,
 "worksheets": [
  {
   "cells": [
    {
     "cell_type": "code",
     "collapsed": false,
     "input": [
      "import Breakout6Solution"
     ],
     "language": "python",
     "metadata": {},
     "outputs": [],
     "prompt_number": 1
    },
    {
     "cell_type": "code",
     "collapsed": false,
     "input": [
      "Breakout6Solution.reverse_extension??"
     ],
     "language": "python",
     "metadata": {},
     "outputs": [],
     "prompt_number": 2
    },
    {
     "cell_type": "code",
     "collapsed": false,
     "input": [
      "Breakout6Solution.count_occurances??"
     ],
     "language": "python",
     "metadata": {},
     "outputs": [],
     "prompt_number": 3
    },
    {
     "cell_type": "code",
     "collapsed": false,
     "input": [
      "Breakout6Solution.find_and_halve_numbers??"
     ],
     "language": "python",
     "metadata": {},
     "outputs": [],
     "prompt_number": 4
    },
    {
     "cell_type": "code",
     "collapsed": false,
     "input": [
      "Breakout6Solution.do_operations??"
     ],
     "language": "python",
     "metadata": {},
     "outputs": [],
     "prompt_number": 5
    },
    {
     "cell_type": "code",
     "collapsed": false,
     "input": [
      "cat elie.info"
     ],
     "language": "python",
     "metadata": {},
     "outputs": [
      {
       "output_type": "stream",
       "stream": "stdout",
       "text": [
        "\"The opposite of love is not hate, it's indifference. \r\n",
        "The opposite of art is not ugliness, it's indifference. \r\n",
        "The opposite of faith is not heresy, it's indifference. \r\n",
        "And the opposite of life is not death, it's indifference.\"\r\n",
        "\r\n",
        "Before I began to study astrology, for many years I was, and remain,\r\n",
        "interested in science. In particular, physics and subatomic physics\r\n",
        "(the study of the particle world that comprises atoms and matter) have\r\n",
        "always fascinated me. As the years have gone by, I have seen many\r\n",
        "correlations between the paradigms and theories of science and\r\n",
        "physics, and the more mystical world we deal in when we approach\r\n",
        "astrology. In this article, I will try to present some of these\r\n",
        "correlations. I wish to state from the outset, however, that I won't\r\n",
        "attempt to \"ultimately explain\" these things.\r\n",
        "\r\n",
        "Pythagoras of Samos (560-480 BCE), is mostly remembered today for the\r\n",
        "\"Pythagorean Theorem\", which relates the length of the sides of a\r\n",
        "right triangle (a2 + b2 = c2). This is taught in every Jr. High School\r\n",
        "geometry class. He is also remembered, though to a lesser extent, for\r\n",
        "his contributions to developments in the fields of mathematics in\r\n",
        "general, astronomy, and music theory. What isn't generally remembered\r\n",
        "is that Pythagoras was a philosopher, and the founder of a religion\r\n",
        "based in great part upon the meanings of numbers - specifically, what\r\n",
        "today we call the whole numbers. Astrology borrows from this tradition\r\n",
        "in its assignment of meaning to the Aspects, as well as to the\r\n",
        "Triplicities and the Quadraplucities, and, thereby, the Signs and\r\n",
        "Houses themselves. It is in the Aspects, however, that the\r\n",
        "correlations can be seen most clearly. The Square Aspect is the whole\r\n",
        "circle divided by the number four (360\u00b0 \u00f7 4 = 90\u00b0). The Square\r\n",
        "therefore draws its fundamental meaning from the meaning of the number\r\n",
        "Four. The same is true of the remaining aspects. Those aspects which\r\n",
        "are most commonly used are even called \"The Pythagorean Aspects\", and\r\n",
        "consist of the ...  Love by Numbers\r\n",
        "\r\n",
        "By adding up the numbers of your birth date you\u2019ll find out what your\r\n",
        "ruling numerological number is. This is said to be your destiny or\r\n",
        "life number. Here\u2019s how you work it out.\r\n",
        "\r\n",
        "Take your day, month and year and add all the numbers together. For\r\n",
        "instance if your date of birth is the September 27, 1961, here\u2019s what\r\n",
        "you do to work out your destiny number. 2 and 7 = 9, September is the\r\n",
        "9th month so that\u2019s another 9. And the year 1,9,6,1 all add up to 17,\r\n",
        "then you add 1 and 7 together and it = 8. So now you have 9,9, and 8\r\n",
        "which = 26. Then you add the 2 and 6 and it = 8, this is your destiny\r\n",
        "number.\r\n",
        "\r\n",
        "Once you have worked your number out, read on to see what type of\r\n",
        "numerological flirt you are.\r\n",
        "\r\n",
        "Read more: http://www.nydailynews.com/lifestyle/horoscopes/star_guide/numbers_guide/index.html#ixzz0xVHYbnt8"
       ]
      }
     ],
     "prompt_number": 6
    },
    {
     "cell_type": "code",
     "collapsed": false,
     "input": [
      "Breakout6Solution.do_operations(\"elie.info\")"
     ],
     "language": "python",
     "metadata": {},
     "outputs": [
      {
       "output_type": "stream",
       "stream": "stdout",
       "text": [
        "There are 2 occurances of astrology and 3 occurances of physics\n",
        "Wrote elie.ofni\n"
       ]
      }
     ],
     "prompt_number": 7
    },
    {
     "cell_type": "code",
     "collapsed": false,
     "input": [
      "cat elie.ofni"
     ],
     "language": "python",
     "metadata": {},
     "outputs": [
      {
       "output_type": "stream",
       "stream": "stdout",
       "text": [
        "\"The opposite of hate not is hate, it's indifference. \r\n",
        "The opposite of faith not is heresy, it's indifference. \r\n",
        "\r\n",
        "interested in science. In particular, physics and subatomic physics\r\n",
        "always fascinated me. As the years have gone by, I have seen many\r\n",
        "physics, and the more mystical world we deal in when we approach\r\n",
        "correlations. I wish to state from the outset, however, that I won't\r\n",
        "\r\n",
        "\"Pythagorean Theorem\", which relates the length of the sides of a\r\n",
        "geometry class. He not also remembered, though to a lesser extent, for\r\n",
        "general, astronomy, and music theory. What isn't generally remembered\r\n",
        "based in great part upon the meanings of numbers - specifically, what\r\n",
        "in its assignment of meaning to the Aspects, as well as to the\r\n",
        "Houses themselves. It not in the Aspects, however, that the\r\n",
        "circle divided by the number four (180\u00b0 \u00f7 2 = 45\u00b0). The Square\r\n",
        "Four. The same not true of the remaining aspects. Those aspects which\r\n",
        "consist of the ...  Love by Numbers\r\n",
        "By adding up the numbers of your birth date you\u2019ll find out what your\r\n",
        "life number. Here\u2019s how you work it out.\r\n",
        "Take your day, month and year and add all the numbers together. For\r\n",
        "you do to work out your destiny number. 1 and 3 = 4, September not the\r\n",
        "then you add 0 and 3 together and it = 4. So now you have 4,4, and 4\r\n",
        "number.\r\n",
        "Once you have worked your number out, read on to see what type of\r\n",
        "\r\n"
       ]
      }
     ],
     "prompt_number": 8
    },
    {
     "cell_type": "code",
     "collapsed": false,
     "input": [],
     "language": "python",
     "metadata": {},
     "outputs": []
    }
   ],
   "metadata": {}
  }
 ]
}